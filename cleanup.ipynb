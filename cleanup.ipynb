{
 "cells": [
  {
   "cell_type": "code",
   "execution_count": 1,
   "id": "9673666e",
   "metadata": {},
   "outputs": [
    {
     "name": "stdout",
     "output_type": "stream",
     "text": [
      "Requirement already satisfied: psycopg2-binary in /Users/akawiifeanyicourage/opt/anaconda3/lib/python3.9/site-packages (2.9.6)\n",
      "Requirement already satisfied: boto3 in /Users/akawiifeanyicourage/opt/anaconda3/lib/python3.9/site-packages (1.26.73)\n",
      "Requirement already satisfied: s3transfer<0.7.0,>=0.6.0 in /Users/akawiifeanyicourage/opt/anaconda3/lib/python3.9/site-packages (from boto3) (0.6.0)\n",
      "Requirement already satisfied: jmespath<2.0.0,>=0.7.1 in /Users/akawiifeanyicourage/opt/anaconda3/lib/python3.9/site-packages (from boto3) (1.0.1)\n",
      "Requirement already satisfied: botocore<1.30.0,>=1.29.73 in /Users/akawiifeanyicourage/opt/anaconda3/lib/python3.9/site-packages (from boto3) (1.29.73)\n",
      "Requirement already satisfied: python-dateutil<3.0.0,>=2.1 in /Users/akawiifeanyicourage/opt/anaconda3/lib/python3.9/site-packages (from botocore<1.30.0,>=1.29.73->boto3) (2.8.2)\n",
      "Requirement already satisfied: urllib3<1.27,>=1.25.4 in /Users/akawiifeanyicourage/opt/anaconda3/lib/python3.9/site-packages (from botocore<1.30.0,>=1.29.73->boto3) (1.26.14)\n",
      "Requirement already satisfied: six>=1.5 in /Users/akawiifeanyicourage/opt/anaconda3/lib/python3.9/site-packages (from python-dateutil<3.0.0,>=2.1->botocore<1.30.0,>=1.29.73->boto3) (1.16.0)\n",
      "Requirement already satisfied: python-dotenv in /Users/akawiifeanyicourage/opt/anaconda3/lib/python3.9/site-packages (0.21.1)\n",
      "Requirement already satisfied: pandas in /Users/akawiifeanyicourage/opt/anaconda3/lib/python3.9/site-packages (1.5.3)\n",
      "Requirement already satisfied: python-dateutil>=2.8.1 in /Users/akawiifeanyicourage/opt/anaconda3/lib/python3.9/site-packages (from pandas) (2.8.2)\n",
      "Requirement already satisfied: pytz>=2020.1 in /Users/akawiifeanyicourage/opt/anaconda3/lib/python3.9/site-packages (from pandas) (2022.7.1)\n",
      "Requirement already satisfied: numpy>=1.20.3 in /Users/akawiifeanyicourage/opt/anaconda3/lib/python3.9/site-packages (from pandas) (1.24.2)\n",
      "Requirement already satisfied: six>=1.5 in /Users/akawiifeanyicourage/opt/anaconda3/lib/python3.9/site-packages (from python-dateutil>=2.8.1->pandas) (1.16.0)\n",
      "Requirement already satisfied: SQLAlchemy in /Users/akawiifeanyicourage/opt/anaconda3/lib/python3.9/site-packages (1.4.46)\n",
      "Requirement already satisfied: greenlet!=0.4.17 in /Users/akawiifeanyicourage/opt/anaconda3/lib/python3.9/site-packages (from SQLAlchemy) (1.1.1)\n"
     ]
    }
   ],
   "source": [
    "!pip install psycopg2-binary\n",
    "!pip install boto3\n",
    "!pip install python-dotenv\n",
    "!pip install pandas\n",
    "!pip install SQLAlchemy"
   ]
  },
  {
   "cell_type": "code",
   "execution_count": 2,
   "id": "3c235338",
   "metadata": {},
   "outputs": [
    {
     "data": {
      "text/plain": [
       "False"
      ]
     },
     "execution_count": 2,
     "metadata": {},
     "output_type": "execute_result"
    }
   ],
   "source": [
    "import boto3\n",
    "from botocore import UNSIGNED\n",
    "from botocore.client import Config\n",
    "import pandas as pd\n",
    "import os\n",
    "from dotenv import load_dotenv\n",
    "from sqlalchemy import create_engine\n",
    "import psycopg2\n",
    "\n",
    "load_dotenv()"
   ]
  },
  {
   "cell_type": "markdown",
   "id": "6c9869e0",
   "metadata": {},
   "source": [
    "### Uncomment the below code cell if you decide to set and load the credentials from an environment variable. You'll however need to create a `.env` file in the working directory"
   ]
  },
  {
   "cell_type": "code",
   "execution_count": 3,
   "id": "e43885c7",
   "metadata": {},
   "outputs": [],
   "source": [
    "# driver=os.environ.get('POSTGRES_DRIVER')\n",
    "# host=os.environ.get('POSTGRES_HOST')\n",
    "# port=os.environ.get('POSTGRES_PORT')\n",
    "# database=os.environ.get('POSTGRES_DATABASE')\n",
    "# username=os.environ.get('POSTGRES_USERNAME')\n",
    "# password=os.environ.get('POSTGRES_PASSWORD')\n",
    "# staging_schema=os.environ.get('POSTGRES_STAGING_SCHEMA')\n",
    "# analytics_schema=os.environ.get('POSTGRES_ANALYTICS_SCHEMA')"
   ]
  },
  {
   "cell_type": "code",
   "execution_count": 4,
   "id": "b71cb1c5",
   "metadata": {},
   "outputs": [],
   "source": [
    "driver='postgresql+psycopg2'\n",
    "host='34.89.230.185'\n",
    "port=5432\n",
    "database='d2b_accessment'\n",
    "username='ifeaakaw4441'\n",
    "password='OcCwxlTINF'\n",
    "staging_schema='ifeaakaw4441_staging'\n",
    "analytics_schema='ifeaakaw4441_analytics'\n",
    "bucket_name='d2b-internal-assessment-bucket'"
   ]
  },
  {
   "cell_type": "code",
   "execution_count": 5,
   "id": "9efae678",
   "metadata": {},
   "outputs": [
    {
     "name": "stdout",
     "output_type": "stream",
     "text": [
      "Engine connected successfully!\n"
     ]
    }
   ],
   "source": [
    "# create engine that connects to the database\n",
    "engine = create_engine(f'{driver}://{username}:{password}@{host}:{port}/{database}')\n",
    "engine.connect()\n",
    "print('Engine connected successfully!')"
   ]
  },
  {
   "cell_type": "code",
   "execution_count": 6,
   "id": "920c83ec",
   "metadata": {},
   "outputs": [
    {
     "name": "stdout",
     "output_type": "stream",
     "text": [
      "Cursor object created\n"
     ]
    }
   ],
   "source": [
    "# create cursor object\n",
    "connection = psycopg2.connect(database=database,\n",
    "                        host=host,\n",
    "                        user=username,\n",
    "                        password=password,\n",
    "                        port=port\n",
    "                             )\n",
    "connection.autocommit = True\n",
    "cursor = connection.cursor()\n",
    "print('Cursor object created')"
   ]
  },
  {
   "cell_type": "code",
   "execution_count": 7,
   "id": "6c98fe9c",
   "metadata": {},
   "outputs": [],
   "source": [
    "# Download all the files using boto3\n",
    "s3 = boto3.client('s3', config=Config(signature_version=UNSIGNED))\n",
    "bucket_name = \"d2b-internal-assessment-bucket\"\n",
    "response = s3.list_objects(Bucket=bucket_name, Prefix=\"orders_data\")\n",
    "files_to_download = ['orders.csv','reviews.csv','shipment_deliveries.csv']\n",
    "\n",
    "for file in files_to_download:\n",
    "    s3.download_file(bucket_name, f\"orders_data/{file}\", f\"{file}\")"
   ]
  },
  {
   "cell_type": "markdown",
   "id": "4e375f61",
   "metadata": {},
   "source": [
    "### Read the downloaded files into pandas Dataframes"
   ]
  },
  {
   "cell_type": "code",
   "execution_count": 8,
   "id": "a72afe2a",
   "metadata": {},
   "outputs": [],
   "source": [
    "orders_df = pd.read_csv('orders.csv')\n",
    "reviews_df = pd.read_csv('reviews.csv')\n",
    "shipment_deliveries_df = pd.read_csv('shipment_deliveries.csv')"
   ]
  },
  {
   "cell_type": "markdown",
   "id": "c1ee4c0f",
   "metadata": {},
   "source": [
    "### Check"
   ]
  },
  {
   "cell_type": "code",
   "execution_count": 9,
   "id": "0758c1bb",
   "metadata": {},
   "outputs": [
    {
     "data": {
      "text/html": [
       "<div>\n",
       "<style scoped>\n",
       "    .dataframe tbody tr th:only-of-type {\n",
       "        vertical-align: middle;\n",
       "    }\n",
       "\n",
       "    .dataframe tbody tr th {\n",
       "        vertical-align: top;\n",
       "    }\n",
       "\n",
       "    .dataframe thead th {\n",
       "        text-align: right;\n",
       "    }\n",
       "</style>\n",
       "<table border=\"1\" class=\"dataframe\">\n",
       "  <thead>\n",
       "    <tr style=\"text-align: right;\">\n",
       "      <th></th>\n",
       "      <th>order_id</th>\n",
       "      <th>customer_id</th>\n",
       "      <th>order_date</th>\n",
       "      <th>product_id</th>\n",
       "      <th>unit_price</th>\n",
       "      <th>quantity</th>\n",
       "      <th>total_price</th>\n",
       "    </tr>\n",
       "  </thead>\n",
       "  <tbody>\n",
       "    <tr>\n",
       "      <th>0</th>\n",
       "      <td>1</td>\n",
       "      <td>5</td>\n",
       "      <td>2022-07-13</td>\n",
       "      <td>24</td>\n",
       "      <td>139</td>\n",
       "      <td>10</td>\n",
       "      <td>1390</td>\n",
       "    </tr>\n",
       "    <tr>\n",
       "      <th>1</th>\n",
       "      <td>2</td>\n",
       "      <td>14</td>\n",
       "      <td>2021-04-06</td>\n",
       "      <td>2</td>\n",
       "      <td>273</td>\n",
       "      <td>4</td>\n",
       "      <td>1092</td>\n",
       "    </tr>\n",
       "    <tr>\n",
       "      <th>2</th>\n",
       "      <td>3</td>\n",
       "      <td>17</td>\n",
       "      <td>2022-07-29</td>\n",
       "      <td>20</td>\n",
       "      <td>253</td>\n",
       "      <td>9</td>\n",
       "      <td>2277</td>\n",
       "    </tr>\n",
       "    <tr>\n",
       "      <th>3</th>\n",
       "      <td>4</td>\n",
       "      <td>14</td>\n",
       "      <td>2022-08-27</td>\n",
       "      <td>8</td>\n",
       "      <td>334</td>\n",
       "      <td>1</td>\n",
       "      <td>334</td>\n",
       "    </tr>\n",
       "    <tr>\n",
       "      <th>4</th>\n",
       "      <td>5</td>\n",
       "      <td>25</td>\n",
       "      <td>2021-12-15</td>\n",
       "      <td>6</td>\n",
       "      <td>334</td>\n",
       "      <td>3</td>\n",
       "      <td>1002</td>\n",
       "    </tr>\n",
       "  </tbody>\n",
       "</table>\n",
       "</div>"
      ],
      "text/plain": [
       "   order_id  customer_id  order_date  product_id  unit_price  quantity  \\\n",
       "0         1            5  2022-07-13          24         139        10   \n",
       "1         2           14  2021-04-06           2         273         4   \n",
       "2         3           17  2022-07-29          20         253         9   \n",
       "3         4           14  2022-08-27           8         334         1   \n",
       "4         5           25  2021-12-15           6         334         3   \n",
       "\n",
       "   total_price  \n",
       "0         1390  \n",
       "1         1092  \n",
       "2         2277  \n",
       "3          334  \n",
       "4         1002  "
      ]
     },
     "execution_count": 9,
     "metadata": {},
     "output_type": "execute_result"
    }
   ],
   "source": [
    "orders_df.head()"
   ]
  },
  {
   "cell_type": "code",
   "execution_count": 10,
   "id": "466b62d7",
   "metadata": {},
   "outputs": [
    {
     "name": "stdout",
     "output_type": "stream",
     "text": [
      "<class 'pandas.core.frame.DataFrame'>\n",
      "RangeIndex: 10000 entries, 0 to 9999\n",
      "Data columns (total 7 columns):\n",
      " #   Column       Non-Null Count  Dtype \n",
      "---  ------       --------------  ----- \n",
      " 0   order_id     10000 non-null  int64 \n",
      " 1   customer_id  10000 non-null  int64 \n",
      " 2   order_date   10000 non-null  object\n",
      " 3   product_id   10000 non-null  int64 \n",
      " 4   unit_price   10000 non-null  int64 \n",
      " 5   quantity     10000 non-null  int64 \n",
      " 6   total_price  10000 non-null  int64 \n",
      "dtypes: int64(6), object(1)\n",
      "memory usage: 547.0+ KB\n"
     ]
    }
   ],
   "source": [
    "orders_df.info()"
   ]
  },
  {
   "cell_type": "code",
   "execution_count": 11,
   "id": "5cdeba2e",
   "metadata": {},
   "outputs": [
    {
     "data": {
      "text/html": [
       "<div>\n",
       "<style scoped>\n",
       "    .dataframe tbody tr th:only-of-type {\n",
       "        vertical-align: middle;\n",
       "    }\n",
       "\n",
       "    .dataframe tbody tr th {\n",
       "        vertical-align: top;\n",
       "    }\n",
       "\n",
       "    .dataframe thead th {\n",
       "        text-align: right;\n",
       "    }\n",
       "</style>\n",
       "<table border=\"1\" class=\"dataframe\">\n",
       "  <thead>\n",
       "    <tr style=\"text-align: right;\">\n",
       "      <th></th>\n",
       "      <th>review</th>\n",
       "      <th>product_id</th>\n",
       "    </tr>\n",
       "  </thead>\n",
       "  <tbody>\n",
       "    <tr>\n",
       "      <th>0</th>\n",
       "      <td>1</td>\n",
       "      <td>21</td>\n",
       "    </tr>\n",
       "    <tr>\n",
       "      <th>1</th>\n",
       "      <td>3</td>\n",
       "      <td>1</td>\n",
       "    </tr>\n",
       "    <tr>\n",
       "      <th>2</th>\n",
       "      <td>2</td>\n",
       "      <td>8</td>\n",
       "    </tr>\n",
       "    <tr>\n",
       "      <th>3</th>\n",
       "      <td>1</td>\n",
       "      <td>5</td>\n",
       "    </tr>\n",
       "    <tr>\n",
       "      <th>4</th>\n",
       "      <td>5</td>\n",
       "      <td>22</td>\n",
       "    </tr>\n",
       "  </tbody>\n",
       "</table>\n",
       "</div>"
      ],
      "text/plain": [
       "   review  product_id\n",
       "0       1          21\n",
       "1       3           1\n",
       "2       2           8\n",
       "3       1           5\n",
       "4       5          22"
      ]
     },
     "execution_count": 11,
     "metadata": {},
     "output_type": "execute_result"
    }
   ],
   "source": [
    "reviews_df.head()"
   ]
  },
  {
   "cell_type": "code",
   "execution_count": 12,
   "id": "be64e741",
   "metadata": {},
   "outputs": [
    {
     "name": "stdout",
     "output_type": "stream",
     "text": [
      "<class 'pandas.core.frame.DataFrame'>\n",
      "RangeIndex: 7236 entries, 0 to 7235\n",
      "Data columns (total 2 columns):\n",
      " #   Column      Non-Null Count  Dtype\n",
      "---  ------      --------------  -----\n",
      " 0   review      7236 non-null   int64\n",
      " 1   product_id  7236 non-null   int64\n",
      "dtypes: int64(2)\n",
      "memory usage: 113.2 KB\n"
     ]
    }
   ],
   "source": [
    "reviews_df.info()"
   ]
  },
  {
   "cell_type": "code",
   "execution_count": 13,
   "id": "f2f9862a",
   "metadata": {},
   "outputs": [
    {
     "data": {
      "text/html": [
       "<div>\n",
       "<style scoped>\n",
       "    .dataframe tbody tr th:only-of-type {\n",
       "        vertical-align: middle;\n",
       "    }\n",
       "\n",
       "    .dataframe tbody tr th {\n",
       "        vertical-align: top;\n",
       "    }\n",
       "\n",
       "    .dataframe thead th {\n",
       "        text-align: right;\n",
       "    }\n",
       "</style>\n",
       "<table border=\"1\" class=\"dataframe\">\n",
       "  <thead>\n",
       "    <tr style=\"text-align: right;\">\n",
       "      <th></th>\n",
       "      <th>shipment_id</th>\n",
       "      <th>order_id</th>\n",
       "      <th>shipment_date</th>\n",
       "      <th>delivery_date</th>\n",
       "    </tr>\n",
       "  </thead>\n",
       "  <tbody>\n",
       "    <tr>\n",
       "      <th>0</th>\n",
       "      <td>1</td>\n",
       "      <td>1</td>\n",
       "      <td>2022-07-14</td>\n",
       "      <td>NaN</td>\n",
       "    </tr>\n",
       "    <tr>\n",
       "      <th>1</th>\n",
       "      <td>2</td>\n",
       "      <td>2</td>\n",
       "      <td>NaN</td>\n",
       "      <td>NaN</td>\n",
       "    </tr>\n",
       "    <tr>\n",
       "      <th>2</th>\n",
       "      <td>3</td>\n",
       "      <td>3</td>\n",
       "      <td>2022-07-31</td>\n",
       "      <td>2022-08-03</td>\n",
       "    </tr>\n",
       "    <tr>\n",
       "      <th>3</th>\n",
       "      <td>4</td>\n",
       "      <td>4</td>\n",
       "      <td>2022-09-02</td>\n",
       "      <td>2022-09-05</td>\n",
       "    </tr>\n",
       "    <tr>\n",
       "      <th>4</th>\n",
       "      <td>5</td>\n",
       "      <td>5</td>\n",
       "      <td>2021-12-19</td>\n",
       "      <td>2021-12-20</td>\n",
       "    </tr>\n",
       "  </tbody>\n",
       "</table>\n",
       "</div>"
      ],
      "text/plain": [
       "   shipment_id  order_id shipment_date delivery_date\n",
       "0            1         1    2022-07-14           NaN\n",
       "1            2         2           NaN           NaN\n",
       "2            3         3    2022-07-31    2022-08-03\n",
       "3            4         4    2022-09-02    2022-09-05\n",
       "4            5         5    2021-12-19    2021-12-20"
      ]
     },
     "execution_count": 13,
     "metadata": {},
     "output_type": "execute_result"
    }
   ],
   "source": [
    "shipment_deliveries_df.head()"
   ]
  },
  {
   "cell_type": "code",
   "execution_count": 14,
   "id": "e2679aad",
   "metadata": {},
   "outputs": [
    {
     "name": "stdout",
     "output_type": "stream",
     "text": [
      "<class 'pandas.core.frame.DataFrame'>\n",
      "RangeIndex: 10000 entries, 0 to 9999\n",
      "Data columns (total 4 columns):\n",
      " #   Column         Non-Null Count  Dtype \n",
      "---  ------         --------------  ----- \n",
      " 0   shipment_id    10000 non-null  int64 \n",
      " 1   order_id       10000 non-null  int64 \n",
      " 2   shipment_date  3243 non-null   object\n",
      " 3   delivery_date  2197 non-null   object\n",
      "dtypes: int64(2), object(2)\n",
      "memory usage: 312.6+ KB\n"
     ]
    }
   ],
   "source": [
    "shipment_deliveries_df.info()"
   ]
  },
  {
   "cell_type": "markdown",
   "id": "31f17ffd",
   "metadata": {},
   "source": [
    "### Write Raw data to database using pandas"
   ]
  },
  {
   "cell_type": "code",
   "execution_count": 15,
   "id": "4df0564f",
   "metadata": {},
   "outputs": [
    {
     "name": "stdout",
     "output_type": "stream",
     "text": [
      "Loaded raw orders data into ifeaakaw4441_staging successfully!\n",
      "Loaded raw reviews data into ifeaakaw4441_staging successfully!\n",
      "Loaded raw shipment_deliveries data into ifeaakaw4441_staging successfully!\n"
     ]
    }
   ],
   "source": [
    "# write orders raw data to staging database\n",
    "orders_df.to_sql(name='orders', \n",
    "                 schema=staging_schema, \n",
    "                 con=engine, \n",
    "                 if_exists='replace', \n",
    "                 index=False) \n",
    "print(f\"Loaded raw orders data into {staging_schema} successfully!\")\n",
    "\n",
    "# write reviews raw data to staging database\n",
    "reviews_df.to_sql(name='reviews', \n",
    "                 schema=staging_schema, \n",
    "                 con=engine, \n",
    "                 if_exists='replace', \n",
    "                 index=False) \n",
    "print(f\"Loaded raw reviews data into {staging_schema} successfully!\")\n",
    "\n",
    "# write shipment_deliveries raw data to staging database\n",
    "shipment_deliveries_df.to_sql(name='shipment_deliveries', \n",
    "                 schema=staging_schema, \n",
    "                 con=engine, \n",
    "                 if_exists='replace', \n",
    "                 index=False) \n",
    "print(f\"Loaded raw shipment_deliveries data into {staging_schema} successfully!\")"
   ]
  },
  {
   "cell_type": "markdown",
   "id": "910d88f0",
   "metadata": {},
   "source": [
    "### Execute SQL Scripts"
   ]
  },
  {
   "cell_type": "code",
   "execution_count": 16,
   "id": "462d9b51",
   "metadata": {},
   "outputs": [],
   "source": [
    "def read_sql_scripts(file_path):\n",
    "    with open(file_path, 'r') as file_handle:\n",
    "        cursor.execute(file_handle.read())\n",
    "        print(f\"Performed Transformations and created {file_path.split('/')[-1].split('.')[0]} table in {analytics_schema}\")"
   ]
  },
  {
   "cell_type": "code",
   "execution_count": 17,
   "id": "9d140f6f",
   "metadata": {},
   "outputs": [
    {
     "name": "stdout",
     "output_type": "stream",
     "text": [
      "Performed Transformations and created best_performing_product table in ifeaakaw4441_analytics\n",
      "Performed Transformations and created agg_public_holiday table in ifeaakaw4441_analytics\n",
      "Performed Transformations and created agg_shipments table in ifeaakaw4441_analytics\n"
     ]
    }
   ],
   "source": [
    "path = './sql_scripts'  \n",
    "for file in os.listdir(path):\n",
    "    if file.endswith(\".sql\"):\n",
    "        full_file_path = f\"{path}/{file}\"\n",
    "        read_sql_scripts(full_file_path)"
   ]
  },
  {
   "cell_type": "markdown",
   "id": "fc70a2fa",
   "metadata": {},
   "source": [
    "### Load the Transformed Tables to s3"
   ]
  },
  {
   "cell_type": "code",
   "execution_count": 18,
   "id": "843de50a",
   "metadata": {},
   "outputs": [],
   "source": [
    "# download the transformed tables\n",
    "transformed_path = './transformed'\n",
    "transformed_tables_names = ['best_performing_product', 'agg_public_holiday', 'agg_shipments']\n",
    "for table in transformed_tables_names:\n",
    "    df_transformed = pd.read_sql_query(f'select * from {analytics_schema}.{table}', con=engine)\n",
    "    df_transformed.to_csv(f'{transformed_path}/{table}.csv', index=False)"
   ]
  },
  {
   "cell_type": "code",
   "execution_count": 19,
   "id": "a95abd19",
   "metadata": {},
   "outputs": [],
   "source": [
    "# Upload to s3\n",
    "for file in os.listdir(transformed_path):\n",
    "    if file.endswith(\".csv\"):\n",
    "        full_file_path = f\"{transformed_path}/{file}\"\n",
    "        s3.upload_file(full_file_path, bucket_name, f'analytics_export/ifeaakaw4441/{file}')"
   ]
  },
  {
   "cell_type": "code",
   "execution_count": 22,
   "id": "c9527b6c",
   "metadata": {},
   "outputs": [
    {
     "data": {
      "text/plain": [
       "{'ResponseMetadata': {'RequestId': '8EVBQ9TPRJWD10NB',\n",
       "  'HostId': '7NyOsRXFitKtuodxZtjBEC0MmmxU++8Qvi433y84W/Fu2qKWF0+CVFfvUdUpCaFtohE+XFRVzZ3hyR67jfdvaw==',\n",
       "  'HTTPStatusCode': 200,\n",
       "  'HTTPHeaders': {'x-amz-id-2': '7NyOsRXFitKtuodxZtjBEC0MmmxU++8Qvi433y84W/Fu2qKWF0+CVFfvUdUpCaFtohE+XFRVzZ3hyR67jfdvaw==',\n",
       "   'x-amz-request-id': '8EVBQ9TPRJWD10NB',\n",
       "   'date': 'Sat, 24 Jun 2023 22:05:14 GMT',\n",
       "   'x-amz-bucket-region': 'eu-central-1',\n",
       "   'content-type': 'application/xml',\n",
       "   'transfer-encoding': 'chunked',\n",
       "   'server': 'AmazonS3'},\n",
       "  'RetryAttempts': 0},\n",
       " 'IsTruncated': False,\n",
       " 'Marker': '',\n",
       " 'Contents': [{'Key': 'analytics_export/ifeaakaw4441/agg_public_holiday.csv',\n",
       "   'LastModified': datetime.datetime(2023, 6, 24, 22, 2, 36, tzinfo=tzutc()),\n",
       "   'ETag': '\"951d934c168726c6e90cb0f586e27f5d\"',\n",
       "   'Size': 260,\n",
       "   'StorageClass': 'STANDARD',\n",
       "   'Owner': {'ID': '65a011a29cdf8ec533ec3d1ccaae921c'}},\n",
       "  {'Key': 'analytics_export/ifeaakaw4441/agg_shipments.csv',\n",
       "   'LastModified': datetime.datetime(2023, 6, 24, 22, 2, 36, tzinfo=tzutc()),\n",
       "   'ETag': '\"297dd230a1d34d2539e6a8adfc4f76dc\"',\n",
       "   'Size': 74,\n",
       "   'StorageClass': 'STANDARD',\n",
       "   'Owner': {'ID': '65a011a29cdf8ec533ec3d1ccaae921c'}},\n",
       "  {'Key': 'analytics_export/ifeaakaw4441/best_performing_product.csv',\n",
       "   'LastModified': datetime.datetime(2023, 6, 24, 22, 2, 35, tzinfo=tzutc()),\n",
       "   'ETag': '\"ed571395cbc6552bf5f56505a5d79213\"',\n",
       "   'Size': 321,\n",
       "   'StorageClass': 'STANDARD',\n",
       "   'Owner': {'ID': '65a011a29cdf8ec533ec3d1ccaae921c'}}],\n",
       " 'Name': 'd2b-internal-assessment-bucket',\n",
       " 'Prefix': 'analytics_export/ifeaakaw4441/',\n",
       " 'MaxKeys': 1000,\n",
       " 'EncodingType': 'url'}"
      ]
     },
     "execution_count": 22,
     "metadata": {},
     "output_type": "execute_result"
    }
   ],
   "source": [
    "my_submission_check = s3.list_objects(Bucket=bucket_name, Prefix=\"analytics_export/ifeaakaw4441/\")\n",
    "my_submission_check"
   ]
  },
  {
   "cell_type": "code",
   "execution_count": null,
   "id": "410463a0",
   "metadata": {},
   "outputs": [],
   "source": []
  }
 ],
 "metadata": {
  "kernelspec": {
   "display_name": "Python 3.9.13 ('base')",
   "language": "python",
   "name": "python3"
  },
  "language_info": {
   "codemirror_mode": {
    "name": "ipython",
    "version": 3
   },
   "file_extension": ".py",
   "mimetype": "text/x-python",
   "name": "python",
   "nbconvert_exporter": "python",
   "pygments_lexer": "ipython3",
   "version": "3.9.13"
  },
  "vscode": {
   "interpreter": {
    "hash": "bc1939446c5e5230e8b6def6c0a08fd868b7804ed0beea0e18a2e2ec60ba549f"
   }
  }
 },
 "nbformat": 4,
 "nbformat_minor": 5
}
